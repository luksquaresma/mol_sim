{
 "cells": [
  {
   "cell_type": "code",
   "execution_count": null,
   "metadata": {},
   "outputs": [],
   "source": [
    "# testing\n",
    "import json, sys\n",
    "import pandas as pd\n",
    "import polars as pl\n",
    "\n",
    "class History():\n",
    "    def __init__(self, path, init_mode):\n",
    "        if   init_mode in [\"POLARS-PARQUET\", \"polars-parquet\"]:\n",
    "            self.polars_df = pl.read_parquet(path)\n",
    "        elif init_mode in [\"PANDAS-JSON\", \"pandas-json\"]:\n",
    "            with open(path) as h:\n",
    "                history = json.load(h)\n",
    "            self.json_data = [\n",
    "                {\n",
    "                **{\n",
    "                    k:d[k]\n",
    "                    for k in d\n",
    "                    if k != 'var'\n",
    "                },\n",
    "                **{\n",
    "                    \"position_x\": d['var']['Position'][0],\n",
    "                    \"position_y\": d['var']['Position'][1],\n",
    "                    \"position_z\": d['var']['Position'][2],\n",
    "\n",
    "                    \"velocity_x\": d['var']['Velocity'][0],\n",
    "                    \"velocity_y\": d['var']['Velocity'][1],\n",
    "                    \"velocity_z\": d['var']['Velocity'][2],\n",
    "                    \n",
    "                    \"orientation_theta\": d['var']['Orientation'][0],\n",
    "                    \"orientation_phi\": d['var']['Orientation'][1],\n",
    "                    \n",
    "                    \"angular_velocity_theta\": d['var']['AngularVelocity'][0],\n",
    "                    \"angular_velocity_phi\": d['var']['AngularVelocity'][1]\n",
    "                } \n",
    "                }  \n",
    "                for d in history\n",
    "            ]\n",
    "        else:\n",
    "            print(\"!!! INVALID ARGUMENT FOR 'init_mode' !!!\")\n",
    "            sys.exit()\n",
    "            \n",
    "    def to_pandas_data_frame(self):\n",
    "        return pd.DataFrame.from_records(self.json_data)"
   ]
  },
  {
   "cell_type": "code",
   "execution_count": null,
   "metadata": {},
   "outputs": [],
   "source": [
    "history = History(\n",
    "    init_mode = \"polars-parquet\",\n",
    "    path      = \"/home/luks/Projects/mol_sim/data/test.parquet\",\n",
    ")"
   ]
  },
  {
   "cell_type": "markdown",
   "metadata": {},
   "source": [
    "history = History(path=\"/home/luks/Projects/mol_sim/data/test.json\")"
   ]
  },
  {
   "cell_type": "code",
   "execution_count": null,
   "metadata": {},
   "outputs": [],
   "source": [
    "history.polars_df.head()[0]"
   ]
  },
  {
   "cell_type": "code",
   "execution_count": null,
   "metadata": {},
   "outputs": [],
   "source": [
    "history.data"
   ]
  },
  {
   "cell_type": "code",
   "execution_count": null,
   "metadata": {},
   "outputs": [],
   "source": [
    "h = history.to_data_frame()"
   ]
  },
  {
   "cell_type": "code",
   "execution_count": null,
   "metadata": {},
   "outputs": [],
   "source": [
    "h[h['t'] != 0]"
   ]
  },
  {
   "cell_type": "code",
   "execution_count": null,
   "metadata": {},
   "outputs": [],
   "source": []
  }
 ],
 "metadata": {
  "kernelspec": {
   "display_name": "Python 3",
   "language": "python",
   "name": "python3"
  },
  "language_info": {
   "codemirror_mode": {
    "name": "ipython",
    "version": 3
   },
   "file_extension": ".py",
   "mimetype": "text/x-python",
   "name": "python",
   "nbconvert_exporter": "python",
   "pygments_lexer": "ipython3",
   "version": "3.10.12"
  }
 },
 "nbformat": 4,
 "nbformat_minor": 2
}
